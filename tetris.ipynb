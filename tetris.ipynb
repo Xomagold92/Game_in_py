import turtle
import random

# Set up the screen
wn = turtle.Screen()
wn.title("Tetris")
wn.bgcolor("black")

# Create the playing board
board = turtle.Turtle()
board.speed(0)
board.color("white")
board.penup()
board.hideturtle()
board.goto(-120, 260)
board.pendown()
board.pensize(3)
for i in range(4):
    board.forward(240)
    board.left(90)

# Create the block
block = turtle.Turtle()
block.speed(0)
block.color("red")
block.shape("square")
block.penup()
block.goto(0, 220)
block.pendown()

# Set the initial movement direction
dx = 0
dy = -20

# Define the movement functions
def move_left():
    global dx
    dx = -20

def move_right():
    global dx
    dx = 20

def move_down():
    global dy
    dy = -20

# Bind the movement functions to key presses
wn.onkeypress(move_left, "Left")
wn.onkeypress(move_right, "Right")
wn.onkeypress(move_down, "Down")
wn.listen()

# Move the block
while True:
    x = block.xcor() + dx
    y = block.ycor() + dy
    
    # Check for collision with walls
    if x < -100 or x > 100:
        dx = 0
    # Check for collision with floor
    if y < -220:
        dy = 0
    # Check for collision with other blocks
    # TODO: implement collision detection
    
    block.goto(x, y)

# Keep the window open
wn.mainloop()
