{
  "cells": [
    {
      "cell_type": "markdown",
      "metadata": {
        "colab_type": "text",
        "id": "view-in-github"
      },
      "source": [
        "<a href=\"https://colab.research.google.com/github/Xomagold92/Game_in_py/blob/main/tetris.ipynb\" target=\"_parent\"><img src=\"https://colab.research.google.com/assets/colab-badge.svg\" alt=\"Open In Colab\"/></a>"
      ]
    },
    {
      "cell_type": "code",
      "execution_count": 1,
      "metadata": {
        "colab": {
          "base_uri": "https://localhost:8080/",
          "height": 380
        },
        "id": "-BOHwnG0X2rw",
        "outputId": "132bf527-df4e-421b-d5d1-c1070e1a4daf"
      },
      "outputs": [
        {
          "ename": "TclError",
          "evalue": "invalid command name \".!canvas\"",
          "output_type": "error",
          "traceback": [
            "\u001b[1;31m---------------------------------------------------------------------------\u001b[0m",
            "\u001b[1;31mTclError\u001b[0m                                  Traceback (most recent call last)",
            "Cell \u001b[1;32mIn[1], line 33\u001b[0m\n\u001b[0;32m     31\u001b[0m \u001b[39m# Move the block down one square at a time\u001b[39;00m\n\u001b[0;32m     32\u001b[0m \u001b[39mwhile\u001b[39;00m \u001b[39mTrue\u001b[39;00m:\n\u001b[1;32m---> 33\u001b[0m     block\u001b[39m.\u001b[39;49msety(block\u001b[39m.\u001b[39;49mycor() \u001b[39m-\u001b[39;49m \u001b[39m20\u001b[39;49m)\n\u001b[0;32m     35\u001b[0m \u001b[39m# Keep the window open\u001b[39;00m\n\u001b[0;32m     36\u001b[0m wn\u001b[39m.\u001b[39mmainloop()\n",
            "File \u001b[1;32md:\\Mega\\28_Programming\\.conda\\lib\\turtle.py:1826\u001b[0m, in \u001b[0;36mTNavigator.sety\u001b[1;34m(self, y)\u001b[0m\n\u001b[0;32m   1810\u001b[0m \u001b[39mdef\u001b[39;00m \u001b[39msety\u001b[39m(\u001b[39mself\u001b[39m, y):\n\u001b[0;32m   1811\u001b[0m \u001b[39m    \u001b[39m\u001b[39m\"\"\"Set the turtle's second coordinate to y\u001b[39;00m\n\u001b[0;32m   1812\u001b[0m \n\u001b[0;32m   1813\u001b[0m \u001b[39m    Argument:\u001b[39;00m\n\u001b[1;32m   (...)\u001b[0m\n\u001b[0;32m   1824\u001b[0m \u001b[39m    (0.00, -10.00)\u001b[39;00m\n\u001b[0;32m   1825\u001b[0m \u001b[39m    \"\"\"\u001b[39;00m\n\u001b[1;32m-> 1826\u001b[0m     \u001b[39mself\u001b[39;49m\u001b[39m.\u001b[39;49m_goto(Vec2D(\u001b[39mself\u001b[39;49m\u001b[39m.\u001b[39;49m_position[\u001b[39m0\u001b[39;49m], y))\n",
            "File \u001b[1;32md:\\Mega\\28_Programming\\.conda\\lib\\turtle.py:3159\u001b[0m, in \u001b[0;36mRawTurtle._goto\u001b[1;34m(self, end)\u001b[0m\n\u001b[0;32m   3151\u001b[0m go_modes \u001b[39m=\u001b[39m ( \u001b[39mself\u001b[39m\u001b[39m.\u001b[39m_drawing,\n\u001b[0;32m   3152\u001b[0m              \u001b[39mself\u001b[39m\u001b[39m.\u001b[39m_pencolor,\n\u001b[0;32m   3153\u001b[0m              \u001b[39mself\u001b[39m\u001b[39m.\u001b[39m_pensize,\n\u001b[0;32m   3154\u001b[0m              \u001b[39misinstance\u001b[39m(\u001b[39mself\u001b[39m\u001b[39m.\u001b[39m_fillpath, \u001b[39mlist\u001b[39m))\n\u001b[0;32m   3155\u001b[0m screen \u001b[39m=\u001b[39m \u001b[39mself\u001b[39m\u001b[39m.\u001b[39mscreen\n\u001b[0;32m   3156\u001b[0m undo_entry \u001b[39m=\u001b[39m (\u001b[39m\"\u001b[39m\u001b[39mgo\u001b[39m\u001b[39m\"\u001b[39m, \u001b[39mself\u001b[39m\u001b[39m.\u001b[39m_position, end, go_modes,\n\u001b[0;32m   3157\u001b[0m               (\u001b[39mself\u001b[39m\u001b[39m.\u001b[39mcurrentLineItem,\n\u001b[0;32m   3158\u001b[0m               \u001b[39mself\u001b[39m\u001b[39m.\u001b[39mcurrentLine[:],\n\u001b[1;32m-> 3159\u001b[0m               screen\u001b[39m.\u001b[39;49m_pointlist(\u001b[39mself\u001b[39;49m\u001b[39m.\u001b[39;49mcurrentLineItem),\n\u001b[0;32m   3160\u001b[0m               \u001b[39mself\u001b[39m\u001b[39m.\u001b[39mitems[:])\n\u001b[0;32m   3161\u001b[0m               )\n\u001b[0;32m   3162\u001b[0m \u001b[39mif\u001b[39;00m \u001b[39mself\u001b[39m\u001b[39m.\u001b[39mundobuffer:\n\u001b[0;32m   3163\u001b[0m     \u001b[39mself\u001b[39m\u001b[39m.\u001b[39mundobuffer\u001b[39m.\u001b[39mpush(undo_entry)\n",
            "File \u001b[1;32md:\\Mega\\28_Programming\\.conda\\lib\\turtle.py:753\u001b[0m, in \u001b[0;36mTurtleScreenBase._pointlist\u001b[1;34m(self, item)\u001b[0m\n\u001b[0;32m    745\u001b[0m \u001b[39mdef\u001b[39;00m \u001b[39m_pointlist\u001b[39m(\u001b[39mself\u001b[39m, item):\n\u001b[0;32m    746\u001b[0m \u001b[39m    \u001b[39m\u001b[39m\"\"\"returns list of coordinate-pairs of points of item\u001b[39;00m\n\u001b[0;32m    747\u001b[0m \u001b[39m    Example (for insiders):\u001b[39;00m\n\u001b[0;32m    748\u001b[0m \u001b[39m    >>> from turtle import *\u001b[39;00m\n\u001b[1;32m   (...)\u001b[0m\n\u001b[0;32m    751\u001b[0m \u001b[39m    (9.9999999999999982, 0.0)]\u001b[39;00m\n\u001b[0;32m    752\u001b[0m \u001b[39m    >>> \"\"\"\u001b[39;00m\n\u001b[1;32m--> 753\u001b[0m     cl \u001b[39m=\u001b[39m \u001b[39mself\u001b[39;49m\u001b[39m.\u001b[39;49mcv\u001b[39m.\u001b[39;49mcoords(item)\n\u001b[0;32m    754\u001b[0m     pl \u001b[39m=\u001b[39m [(cl[i], \u001b[39m-\u001b[39mcl[i\u001b[39m+\u001b[39m\u001b[39m1\u001b[39m]) \u001b[39mfor\u001b[39;00m i \u001b[39min\u001b[39;00m \u001b[39mrange\u001b[39m(\u001b[39m0\u001b[39m, \u001b[39mlen\u001b[39m(cl), \u001b[39m2\u001b[39m)]\n\u001b[0;32m    755\u001b[0m     \u001b[39mreturn\u001b[39;00m  pl\n",
            "File \u001b[1;32m<string>:1\u001b[0m, in \u001b[0;36mcoords\u001b[1;34m(self, *args, **kw)\u001b[0m\n",
            "File \u001b[1;32md:\\Mega\\28_Programming\\.conda\\lib\\tkinter\\__init__.py:2795\u001b[0m, in \u001b[0;36mCanvas.coords\u001b[1;34m(self, *args)\u001b[0m\n\u001b[0;32m   2791\u001b[0m \u001b[39m\u001b[39m\u001b[39m\"\"\"Return a list of coordinates for the item given in ARGS.\"\"\"\u001b[39;00m\n\u001b[0;32m   2792\u001b[0m \u001b[39m# XXX Should use _flatten on args\u001b[39;00m\n\u001b[0;32m   2793\u001b[0m \u001b[39mreturn\u001b[39;00m [\u001b[39mself\u001b[39m\u001b[39m.\u001b[39mtk\u001b[39m.\u001b[39mgetdouble(x) \u001b[39mfor\u001b[39;00m x \u001b[39min\u001b[39;00m\n\u001b[0;32m   2794\u001b[0m                    \u001b[39mself\u001b[39m\u001b[39m.\u001b[39mtk\u001b[39m.\u001b[39msplitlist(\n\u001b[1;32m-> 2795\u001b[0m            \u001b[39mself\u001b[39;49m\u001b[39m.\u001b[39;49mtk\u001b[39m.\u001b[39;49mcall((\u001b[39mself\u001b[39;49m\u001b[39m.\u001b[39;49m_w, \u001b[39m'\u001b[39;49m\u001b[39mcoords\u001b[39;49m\u001b[39m'\u001b[39;49m) \u001b[39m+\u001b[39;49m args))]\n",
            "\u001b[1;31mTclError\u001b[0m: invalid command name \".!canvas\""
          ]
        }
      ],
      "source": [
        "import turtle\n",
        "import random\n",
        "\n",
        "# Set up the screen\n",
        "wn = turtle.Screen()\n",
        "wn.title(\"Tetris\")\n",
        "wn.bgcolor(\"black\")\n",
        "\n",
        "# Create the playing board\n",
        "board = turtle.Turtle()\n",
        "board.speed(0)\n",
        "board.color(\"white\")\n",
        "board.penup()\n",
        "board.hideturtle()\n",
        "board.goto(0, 260)\n",
        "board.pendown()\n",
        "board.pensize(3)\n",
        "for i in range(4):\n",
        "    board.forward(240)\n",
        "    board.left(90)\n",
        "\n",
        "# Create the first block\n",
        "block = turtle.Turtle()\n",
        "block.speed(0)\n",
        "block.color(\"red\")\n",
        "block.shape(\"square\")\n",
        "block.penup()\n",
        "block.goto(0,0)\n",
        "block.pendown()\n",
        "\n",
        "# Move the block down one square at a time\n",
        "while True:\n",
        "    block.sety(block.ycor() - 20)\n",
        "\n",
        "# Keep the window op en\n",
        "wn.mainloop()"
      ]
    }
  ],
  "metadata": {
    "colab": {
      "authorship_tag": "ABX9TyPOth/8a9RuchcXNQH0kc5M",
      "include_colab_link": true,
      "provenance": []
    },
    "kernelspec": {
      "display_name": "Python 3",
      "language": "python",
      "name": "python3"
    },
    "language_info": {
      "codemirror_mode": {
        "name": "ipython",
        "version": 3
      },
      "file_extension": ".py",
      "mimetype": "text/x-python",
      "name": "python",
      "nbconvert_exporter": "python",
      "pygments_lexer": "ipython3",
      "version": "3.10.9"
    },
    "vscode": {
      "interpreter": {
        "hash": "1ddfcb480e765260c8abb1aab5e609e28210b00b72e6a8b2786a9d24633270bc"
      }
    }
  },
  "nbformat": 4,
  "nbformat_minor": 0
}
