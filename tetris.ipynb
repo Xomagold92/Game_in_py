import turtle
import random

# Set up the screen
wn = turtle.Screen()
wn.title("Tetris")
wn.bgcolor("black")

# Create the playing board
board = turtle.Turtle()
board.speed(0)
board.color("white")
board.penup()
board.hideturtle()
board.goto(0, 260)
board.pendown()
board.pensize(3)
for i in range(4):
    board.forward(240)
    board.left(90)

# Create the first block
block = turtle.Turtle()
block.speed(0)
block.color("red")
block.shape("square")
block.penup()
block.goto(0,0)
block.pendown()

# Move the block down one square at a time
while True:
    block.sety(block.ycor() - 20)

# Keep the window open
wn.mainloop()
